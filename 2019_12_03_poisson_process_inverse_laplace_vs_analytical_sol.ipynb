{
  "nbformat": 4,
  "nbformat_minor": 0,
  "metadata": {
    "kernelspec": {
      "display_name": "Python 3",
      "language": "python",
      "name": "python3"
    },
    "language_info": {
      "codemirror_mode": {
        "name": "ipython",
        "version": 3
      },
      "file_extension": ".py",
      "mimetype": "text/x-python",
      "name": "python",
      "nbconvert_exporter": "python",
      "pygments_lexer": "ipython3",
      "version": "3.7.4"
    },
    "colab": {
      "name": "2019.12.03 poisson process - inverse laplace vs analytical sol.ipynb",
      "provenance": [],
      "collapsed_sections": [],
      "include_colab_link": true
    }
  },
  "cells": [
    {
      "cell_type": "markdown",
      "metadata": {
        "id": "view-in-github",
        "colab_type": "text"
      },
      "source": [
        "<a href=\"https://colab.research.google.com/github/there-exist/thereexist_/blob/master/2019_12_03_poisson_process_inverse_laplace_vs_analytical_sol.ipynb\" target=\"_parent\"><img src=\"https://colab.research.google.com/assets/colab-badge.svg\" alt=\"Open In Colab\"/></a>"
      ]
    },
    {
      "cell_type": "code",
      "metadata": {
        "id": "4sw3ZGnvYMqJ",
        "colab_type": "code",
        "colab": {}
      },
      "source": [
        "# import library\n",
        "\n",
        "import numpy as np\n",
        "import matplotlib.pyplot as plt\n",
        "import mpmath as mp\n",
        "\n",
        "mp.dps = 12; mp.pretty = True"
      ],
      "execution_count": 0,
      "outputs": []
    },
    {
      "cell_type": "code",
      "metadata": {
        "id": "cLJplgZ1YMqN",
        "colab_type": "code",
        "colab": {}
      },
      "source": [
        "def Qu(N):\n",
        "    i = np.array([np.linspace(0,N,N+1)])\n",
        "    k = i.T\n",
        "    \n",
        "    Qu = np.sqrt(2/(N+1))*np.cos(k*(i+0.5)*np.pi / (N+1))\n",
        "    \n",
        "    Qu = Qu.T\n",
        "    \n",
        "    Qu[:,0] = np.sqrt(1/(N+1))\n",
        "    \n",
        "    return Qu"
      ],
      "execution_count": 0,
      "outputs": []
    },
    {
      "cell_type": "code",
      "metadata": {
        "id": "EW9wxvkqYMqO",
        "colab_type": "code",
        "colab": {}
      },
      "source": [
        "def hat_psi(u,k):\n",
        "    return k / (k+u)"
      ],
      "execution_count": 0,
      "outputs": []
    },
    {
      "cell_type": "code",
      "metadata": {
        "id": "ISvFSkcfYMqQ",
        "colab_type": "code",
        "colab": {}
      },
      "source": [
        "def D(u,k):  \n",
        "    psi = hat_psi(u,k)\n",
        "    return u*psi / (1-psi)"
      ],
      "execution_count": 0,
      "outputs": []
    },
    {
      "cell_type": "code",
      "metadata": {
        "id": "KppsI4rwYMqR",
        "colab_type": "code",
        "colab": {}
      },
      "source": [
        "def laplace_domain_G(n,m,N,u,k):\n",
        "    \n",
        "    Qua = Qu(N)\n",
        "\n",
        "    i = np.linspace(0,N,N+1)\n",
        "    M = -4 * np.sin(i*np.pi / (2 * (N+1)))**2\n",
        "    \n",
        "        \n",
        "    Da = D(u,k)\n",
        "    \n",
        "\n",
        "    q1 = Qua[n,:]\n",
        "    q2 = Qua[m,:]\n",
        "    denominator = u - M*Da\n",
        "       \n",
        "    result = np.sum(np.multiply(np.multiply(q1,q2),denominator**-1))\n",
        "\n",
        "    return result"
      ],
      "execution_count": 0,
      "outputs": []
    },
    {
      "cell_type": "code",
      "metadata": {
        "id": "TJGFJxjrYMqT",
        "colab_type": "code",
        "colab": {
          "base_uri": "https://localhost:8080/",
          "height": 35
        },
        "outputId": "cbe02fab-0119-48e1-8561-83d72c0dc867"
      },
      "source": [
        "laplace_domain_G(n = 3,m = 5,N = 10,u = 10,k = 1)"
      ],
      "execution_count": 6,
      "outputs": [
        {
          "output_type": "execute_result",
          "data": {
            "text/plain": [
              "0.000595208589916173"
            ]
          },
          "metadata": {
            "tags": []
          },
          "execution_count": 6
        }
      ]
    },
    {
      "cell_type": "code",
      "metadata": {
        "id": "9H-hdRRkYMqV",
        "colab_type": "code",
        "colab": {}
      },
      "source": [
        "def G_graph(u_initial, u_final, slicing_number, n, m, N, k):\n",
        "  \n",
        "    U = np.linspace(u_initial,u_final,slicing_number)\n",
        "\n",
        "    Ga = []\n",
        "\n",
        "    for i in U:\n",
        "\n",
        "        result = laplace_domain_G(n, m, N, i, k)\n",
        "        Ga.append(result)\n",
        " \n",
        "\n",
        "    return U, Ga"
      ],
      "execution_count": 0,
      "outputs": []
    },
    {
      "cell_type": "code",
      "metadata": {
        "id": "6jAJOHLjYMqX",
        "colab_type": "code",
        "colab": {
          "base_uri": "https://localhost:8080/",
          "height": 301
        },
        "outputId": "7abc465f-a94f-468f-a581-a3ee77ccea56"
      },
      "source": [
        "%%time\n",
        "\n",
        "U, Ga = G_graph(u_initial = 1, u_final = 10, slicing_number = 100, n = 45, m = 50, N = 100, k = 1)\n",
        "\n",
        "plt.plot(U,Ga)"
      ],
      "execution_count": 8,
      "outputs": [
        {
          "output_type": "stream",
          "text": [
            "CPU times: user 59 ms, sys: 750 µs, total: 59.7 ms\n",
            "Wall time: 71.3 ms\n"
          ],
          "name": "stdout"
        },
        {
          "output_type": "display_data",
          "data": {
            "image/png": "[encoded data removed]",
            "text/plain": [
              "<Figure size 432x288 with 1 Axes>"
            ]
          },
          "metadata": {
            "tags": []
          }
        }
      ]
    },
    {
      "cell_type": "code",
      "metadata": {
        "id": "d803jgbnYMqY",
        "colab_type": "code",
        "colab": {
          "base_uri": "https://localhost:8080/",
          "height": 301
        },
        "outputId": "8d942583-6255-498e-b9c0-5614f941d230"
      },
      "source": [
        "%%time\n",
        "laplace_G = lambda u: laplace_domain_G(5,5,10,u,1)\n",
        "\n",
        "#laplace_domain_G(n,m,N,u,k)\n",
        "\n",
        "Time = mp.linspace(1,10,3)\n",
        "\n",
        "time_domain_G = []\n",
        "\n",
        "for i in Time:\n",
        "    result = mp.invertlaplace(laplace_G, i, method= 'stehfest')\n",
        "    \n",
        "    time_domain_G.append(result) \n",
        "    \n",
        "    \n",
        "plt.plot(Time,time_domain_G,'r-')"
      ],
      "execution_count": 9,
      "outputs": [
        {
          "output_type": "stream",
          "text": [
            "CPU times: user 154 ms, sys: 4.58 ms, total: 159 ms\n",
            "Wall time: 152 ms\n"
          ],
          "name": "stdout"
        },
        {
          "output_type": "display_data",
          "data": {
            "image/png": "[encoded data removed]",
            "text/plain": [
              "<Figure size 432x288 with 1 Axes>"
            ]
          },
          "metadata": {
            "tags": []
          }
        }
      ]
    },
    {
      "cell_type": "code",
      "metadata": {
        "id": "focSJH2_YbLe",
        "colab_type": "code",
        "colab": {}
      },
      "source": [
        "\n",
        "def G_t(t_initial, t_final, slicing_number, n, m, N, k):\n",
        "\n",
        "  laplace_G = lambda u: laplace_domain_G(n,m,N,u,k)\n",
        "\n",
        "  #laplace_domain_G(n,m,N,u,k)\n",
        "\n",
        "  Time = mp.linspace(t_initial,t_final,slicing_number)\n",
        "\n",
        "  time_domain_G = []\n",
        "\n",
        "  for i in Time:\n",
        "      result = mp.invertlaplace(laplace_G, i, method= 'stehfest')\n",
        "    \n",
        "      time_domain_G.append(result) \n",
        "\n",
        "  return Time, time_domain_G   "
      ],
      "execution_count": 0,
      "outputs": []
    },
    {
      "cell_type": "code",
      "metadata": {
        "id": "QKa7QO45YMqa",
        "colab_type": "code",
        "colab": {}
      },
      "source": [
        "def time_domain_G(n,m,N,t,k):\n",
        "    \n",
        "    Qua = Qu(N)\n",
        "\n",
        "    i = np.linspace(0,N,N+1)\n",
        "    M = -4 * np.sin(i*np.pi / (2 * (N+1)))**2\n",
        "            \n",
        "\n",
        "    q1 = Qua[n,:]\n",
        "    q2 = Qua[m,:]\n",
        "    denominator = np.exp(k*M*t)\n",
        "       \n",
        "    result = np.sum(np.multiply(np.multiply(q1,q2),denominator))\n",
        "       \n",
        "    return result"
      ],
      "execution_count": 0,
      "outputs": []
    },
    {
      "cell_type": "code",
      "metadata": {
        "id": "1odK_khCYMqb",
        "colab_type": "code",
        "colab": {
          "base_uri": "https://localhost:8080/",
          "height": 35
        },
        "outputId": "6f6f31eb-92b4-4dcf-8177-8b04fce9f10e"
      },
      "source": [
        "time_domain_G(n = 3,m = 5,N = 10,t = 5,k = 5)"
      ],
      "execution_count": 28,
      "outputs": [
        {
          "output_type": "execute_result",
          "data": {
            "text/plain": [
              "0.09093606729478176"
            ]
          },
          "metadata": {
            "tags": []
          },
          "execution_count": 28
        }
      ]
    },
    {
      "cell_type": "code",
      "metadata": {
        "id": "XnXTQ-fwYMqd",
        "colab_type": "code",
        "colab": {}
      },
      "source": [
        "def G_t2(t_initial, t_final, slicing_number, n, m, N, k):\n",
        "  \n",
        "  T = np.linspace(t_initial,t_final,slicing_number)\n",
        "\n",
        "  Ga_t = []\n",
        "\n",
        "  for i in T:\n",
        "\n",
        "    G = time_domain_G(n, m, N, i, k )\n",
        "    Ga_t.append(G)\n",
        " \n",
        "\n",
        "  return T, Ga_t"
      ],
      "execution_count": 0,
      "outputs": []
    },
    {
      "cell_type": "code",
      "metadata": {
        "id": "z9N_VQvaYMqe",
        "colab_type": "code",
        "colab": {
          "base_uri": "https://localhost:8080/",
          "height": 301
        },
        "outputId": "00260be4-dee4-4426-c04f-4dbfc3e70fba"
      },
      "source": [
        "%%time\n",
        "\n",
        "t2, g2 = G_t2(t_initial = 2, t_final = 10, slicing_number = 5, n = 3, m = 5, N = 10, k = 5)\n",
        "\n",
        "plt.plot(t2,g2,'b-')"
      ],
      "execution_count": 30,
      "outputs": [
        {
          "output_type": "stream",
          "text": [
            "CPU times: user 16.9 ms, sys: 991 µs, total: 17.9 ms\n",
            "Wall time: 23.8 ms\n"
          ],
          "name": "stdout"
        },
        {
          "output_type": "display_data",
          "data": {
            "image/png": "[encoded data removed]",
            "text/plain": [
              "<Figure size 432x288 with 1 Axes>"
            ]
          },
          "metadata": {
            "tags": []
          }
        }
      ]
    },
    {
      "cell_type": "code",
      "metadata": {
        "id": "zVLOxsOOYMqg",
        "colab_type": "code",
        "colab": {}
      },
      "source": [
        ""
      ],
      "execution_count": 0,
      "outputs": []
    },
    {
      "cell_type": "code",
      "metadata": {
        "id": "hokExGUWYMqh",
        "colab_type": "code",
        "colab": {
          "base_uri": "https://localhost:8080/",
          "height": 301
        },
        "outputId": "e625eb79-37c3-4792-bb0b-5b5070d1d005"
      },
      "source": [
        "%%time\n",
        "t1, g1 = G_t(t_initial = 1, t_final = 10, slicing_number = 5, n = 3, m = 5, N = 10, k = 5)\n",
        "\n",
        "plt.plot(t1,g1,'r-')\n"
      ],
      "execution_count": 31,
      "outputs": [
        {
          "output_type": "stream",
          "text": [
            "CPU times: user 236 ms, sys: 3.2 ms, total: 239 ms\n",
            "Wall time: 235 ms\n"
          ],
          "name": "stdout"
        },
        {
          "output_type": "display_data",
          "data": {
            "image/png": "[encoded data removed]",
            "text/plain": [
              "<Figure size 432x288 with 1 Axes>"
            ]
          },
          "metadata": {
            "tags": []
          }
        }
      ]
    },
    {
      "cell_type": "code",
      "metadata": {
        "id": "k3s4tRTsYMqi",
        "colab_type": "code",
        "colab": {
          "base_uri": "https://localhost:8080/",
          "height": 301
        },
        "outputId": "57f33719-171e-4885-f20c-1ca6ba5a9806"
      },
      "source": [
        "%%time\n",
        "t1, g1 = G_t(t_initial = 1, t_final = 10, slicing_number = 500, n = 50, m = 50, N = 100, k = 10)\n",
        "t2, g2 = G_t2(t_initial = 1, t_final = 10, slicing_number = 500, n = 50, m = 50, N = 100, k = 10)\n",
        "\n",
        "plt.plot(t1,g1,'r-')\n",
        "plt.plot(t2,g2,'b-')"
      ],
      "execution_count": 35,
      "outputs": [
        {
          "output_type": "stream",
          "text": [
            "CPU times: user 1min 19s, sys: 23 ms, total: 1min 19s\n",
            "Wall time: 1min 19s\n"
          ],
          "name": "stdout"
        },
        {
          "output_type": "display_data",
          "data": {
            "image/png": "[encoded data removed]",
            "text/plain": [
              "<Figure size 432x288 with 1 Axes>"
            ]
          },
          "metadata": {
            "tags": []
          }
        }
      ]
    },
    {
      "cell_type": "code",
      "metadata": {
        "id": "eKXaBrKhZI5I",
        "colab_type": "code",
        "colab": {
          "base_uri": "https://localhost:8080/",
          "height": 301
        },
        "outputId": "72af22f9-1b63-42c3-f160-15ba3ad55b62"
      },
      "source": [
        "%%time\n",
        "t1, g1 = G_t(t_initial = 1, t_final = 10, slicing_number = 5, n = 50, m = 50, N = 100, k = 10)\n",
        "\n",
        "\n",
        "plt.plot(t1,g1,'r-')\n"
      ],
      "execution_count": 33,
      "outputs": [
        {
          "output_type": "stream",
          "text": [
            "CPU times: user 824 ms, sys: 725 µs, total: 825 ms\n",
            "Wall time: 832 ms\n"
          ],
          "name": "stdout"
        },
        {
          "output_type": "display_data",
          "data": {
            "image/png": "[encoded data removed]",
            "text/plain": [
              "<Figure size 432x288 with 1 Axes>"
            ]
          },
          "metadata": {
            "tags": []
          }
        }
      ]
    },
    {
      "cell_type": "code",
      "metadata": {
        "id": "-w-cgixlZkBi",
        "colab_type": "code",
        "colab": {}
      },
      "source": [
        "## random walk simulation code part\n",
        "\n",
        "'''\n",
        "Time functions\n",
        "\n",
        "Boundary : follow poisson process\n",
        "Bulk : power law process\n",
        "'''\n",
        "\n",
        "\n",
        "def waiting_time(k):\n",
        "    return -np.log(np.random.rand()) / k\n",
        "\n",
        "def Random_walk_simulation(nr, kf, kb, k, m, N, T, dt):\n",
        "\n",
        "    '''\n",
        "    list of variable\n",
        "    # nr : number of repetition\n",
        "    # kf : forward rate\n",
        "    # kb : backward rate\n",
        "    # k : constant related with jumping rate in bulk\n",
        "    # m : initial position of particle\n",
        "    # N : upper boundary of particle\n",
        "    # T : total time (from 0 to T)\n",
        "    # dt : time interval\n",
        "    '''\n",
        "\n",
        "    M = int(np.round(T / dt, 0))\n",
        "\n",
        "    discrete_time_space = np.linspace(0, T, M)\n",
        "    time_dependent_position_function = np.zeros((nr, M))\n",
        "    survive_probability_function = np.ones((nr, M))\n",
        "\n",
        "    '''\n",
        "    discrete_time_space : split [0,T] range by M pieces\n",
        "    time_dependent_position_function & survive_probability_function : Because of nr times repetition,\n",
        "    I defined as (nr,M) matrices. After simulation, np.sum(OOO, axis = 0) / nr -> average data\n",
        "    '''\n",
        "\n",
        "    for i in range(0, nr):\n",
        "\n",
        "\n",
        "        '''\n",
        "        i_th simulation start here\n",
        "        '''\n",
        "\n",
        "        t = 0  # initial time\n",
        "        n = m  # initial position\n",
        "        nb = m  # initial position(2)\n",
        "        idxb = 0  # index (2)\n",
        "\n",
        "        '''\n",
        "        nb and idxb were defined to draw the time_dependent_position_graph\n",
        "        '''\n",
        "\n",
        "        while True:\n",
        "\n",
        "            '''\n",
        "            boundary condition description\n",
        "            '''\n",
        "\n",
        "            if n == 0:\n",
        "                left_jump_at_zero = waiting_time(kf)\n",
        "                right_jump_at_zero = waiting_time(k)\n",
        "\n",
        "                if left_jump_at_zero < right_jump_at_zero:\n",
        "\n",
        "                    n = -1\n",
        "                    t += left_jump_at_zero\n",
        "\n",
        "                else:\n",
        "\n",
        "                    n = 1\n",
        "                    t += right_jump_at_zero\n",
        "\n",
        "            if n == -1:\n",
        "                right_jump_at_minus = waiting_time(kb)\n",
        "\n",
        "                n = 0\n",
        "                t += right_jump_at_minus\n",
        "\n",
        "            '''\n",
        "            Green's function을 구하면서, L_FP에 해당하는 matrix form을 보니,\n",
        "            reflecting boundary condition이지만, 시간 term을 주는 것이 \n",
        "            맞을 것 같아 이를 추가. (2019.11.29)\n",
        "            '''\n",
        "\n",
        "            if n == N:\n",
        "\n",
        "                n -= 1\n",
        "                t += waiting_time(k)\n",
        "\n",
        "            else:\n",
        "\n",
        "                left_jump_at_bulk = waiting_time(k)\n",
        "                right_jump_at_bulk = waiting_time(k)\n",
        "\n",
        "                if left_jump_at_bulk < right_jump_at_bulk:\n",
        "                    n -= 1\n",
        "                    t += left_jump_at_bulk\n",
        "\n",
        "                else:\n",
        "\n",
        "                    n += 1\n",
        "                    t += right_jump_at_bulk\n",
        "\n",
        "            # now, (t,n) value comes out from the while loop\n",
        "            # survival probability : 0 for n == -1, 1 for n != -1.\n",
        "\n",
        "            # break the code (time boundary)\n",
        "\n",
        "            if t > T:\n",
        "                break\n",
        "\n",
        "            idx = int(np.round(t / dt, 0))\n",
        "\n",
        "            '''\n",
        "            이 부분을 만드는데 조금 애를 먹음... 이제는 정확하게 time_dependent_position_function이 나옴을 확인함.(2019.11.22)\n",
        "            '''\n",
        "\n",
        "            # print(\"before change :\", idxb, nb)\n",
        "            time_dependent_position_function[i, idxb:idx - 1] = nb\n",
        "            time_dependent_position_function[i, idx:] = n\n",
        "\n",
        "            '''\n",
        "            event가 나기 전까지는 nb에 위치하고, event가 일어나면 n으로 이동한다.\n",
        "            그러면서 idxb와 nb를 각각 idx와 n으로 바꿔준다.\n",
        "            이러한 과정을 통해 반영을 해본 것이다.\n",
        "\n",
        "            ex) 10의 위치에 있었는데 4초에 jump가 생겨 9로 이동한 경우\n",
        "\n",
        "            time_dependent_position_function[i,:] = [10,10,10,10,9,9,9,9,9,9,9]\n",
        "\n",
        "            그 뒤에 8초에 jump가 생겨 8로 이동\n",
        "\n",
        "            time_dependent_position_function[i,:] = [10,10,10,10,9,9,9,9,8,8,8]\n",
        "\n",
        "            '''\n",
        "\n",
        "            idxb = idx\n",
        "            nb = n\n",
        "            # print(\"idx, n = (\", idx, n,\")\")\n",
        "            # print(\"after change :\", idxb, nb)\n",
        "\n",
        "    average_time_dependent_position_function = np.sum(time_dependent_position_function, axis = 0) / nr\n",
        "    # print(time_dependent_position_function)\n",
        "\n",
        "    survive_probability_function[time_dependent_position_function == -1] = 0\n",
        "    average_survive_probability_function = np.sum(survive_probability_function, axis = 0) / nr\n",
        "\n",
        "#     plt.figure(figsize = (20, 10))\n",
        "\n",
        "#     print(\"input number information\")\n",
        "#     print(\" nr(number of repetition):\", nr, \"\\n kf(forward rate):\", kf, \"\\n kb(backward rate):\", kb,\n",
        "#           \"\\n td:\", td, \"\\n a:\", a, \"\\n m(initial position):\", m, \"\\n N(upper boundary):\", N,\n",
        "#           \"\\n T(Total measuring time):\", T, \"\\n dt(time interval):\", dt)\n",
        "\n",
        "#     plt.subplot(221)\n",
        "#     plt.title(\"time-dependent-position\")\n",
        "#     plt.xlabel(\"time\")\n",
        "#     plt.ylabel(\"position\")\n",
        "#     plt.plot(discrete_time_space, average_time_dependent_position_function.T)\n",
        "\n",
        "#     plt.subplot(222)\n",
        "#     plt.title(\"survival probability function\")\n",
        "#     plt.xlabel(\"time\")\n",
        "#     plt.ylabel(\"S(t)\")\n",
        "#     plt.plot(discrete_time_space, average_survive_probability_function.T)\n",
        "#     plt.show()\n",
        "    \n",
        "    return discrete_time_space, average_time_dependent_position_function, average_survive_probability_function"
      ],
      "execution_count": 0,
      "outputs": []
    },
    {
      "cell_type": "code",
      "metadata": {
        "id": "7zr1e1t-avPQ",
        "colab_type": "code",
        "colab": {}
      },
      "source": [
        "%%time\n",
        "\n",
        "T, Position, Survive = Random_walk_simulation(nr = 1000, kf, kb, k, m, N, T, dt)\n",
        "\n",
        "t1, g1 = G_t(t_initial = 1, t_final = 10, slicing_number = 5, n = 50, m = 50, N = 100, k = 10)\n",
        "t2, g2 = G_t2(t_initial = 1, t_final = 10, slicing_number = 5, n = 50, m = 50, N = 100, k = 10)\n",
        "\n",
        "\n",
        "plt.plot(t1,g1,'r-')\n",
        "plt.plot(t2,g2,'b-')\n"
      ],
      "execution_count": 0,
      "outputs": []
    }
  ]
}