{
  "nbformat": 4,
  "nbformat_minor": 0,
  "metadata": {
    "kernelspec": {
      "display_name": "Python 3",
      "language": "python",
      "name": "python3"
    },
    "language_info": {
      "codemirror_mode": {
        "name": "ipython",
        "version": 3
      },
      "file_extension": ".py",
      "mimetype": "text/x-python",
      "name": "python",
      "nbconvert_exporter": "python",
      "pygments_lexer": "ipython3",
      "version": "3.7.3"
    },
    "colab": {
      "name": "2019.11.28 Matrix M and Qu definition by using matrix calculation.ipynb",
      "provenance": [],
      "include_colab_link": true
    }
  },
  "cells": [
    {
      "cell_type": "markdown",
      "metadata": {
        "id": "view-in-github",
        "colab_type": "text"
      },
      "source": [
        "<a href=\"https://colab.research.google.com/github/there-exist/thereexist_/blob/master/2019_11_28_Matrix_M_and_Qu_definition_by_using_matrix_calculation.ipynb\" target=\"_parent\"><img src=\"https://colab.research.google.com/assets/colab-badge.svg\" alt=\"Open In Colab\"/></a>"
      ]
    },
    {
      "cell_type": "code",
      "metadata": {
        "id": "G253pjxWPb9L",
        "colab_type": "code",
        "colab": {}
      },
      "source": [
        "import numpy as np\n",
        "\n",
        "\n",
        "\n",
        "\n",
        "def Qu(N):\n",
        "    i = np.array([np.linspace(0,N,N+1)])\n",
        "    k = i.T\n",
        "    \n",
        "    Qu = np.sqrt(2/(N+1))*np.cos(k*(i+0.5)*np.pi / (N+1))\n",
        "    \n",
        "    Qu = Qu.T\n",
        "    \n",
        "    Qu[:,0] = np.sqrt(1/(N+1))\n",
        "       \n",
        "    \n",
        "    return Qu\n",
        "\n",
        "    \n",
        "    "
      ],
      "execution_count": 0,
      "outputs": []
    },
    {
      "cell_type": "code",
      "metadata": {
        "id": "uXKnsJnsPb9R",
        "colab_type": "code",
        "colab": {},
        "outputId": "2a71bde6-f8ed-48e5-912e-1a96727182d9"
      },
      "source": [
        "print(Qu(3))"
      ],
      "execution_count": 0,
      "outputs": [
        {
          "output_type": "stream",
          "text": [
            "[[ 0.5         0.65328148  0.5         0.27059805]\n",
            " [ 0.5         0.27059805 -0.5        -0.65328148]\n",
            " [ 0.5        -0.27059805 -0.5         0.65328148]\n",
            " [ 0.5        -0.65328148  0.5        -0.27059805]]\n"
          ],
          "name": "stdout"
        }
      ]
    },
    {
      "cell_type": "code",
      "metadata": {
        "id": "uYk8oKABPb9U",
        "colab_type": "code",
        "colab": {}
      },
      "source": [
        "\n",
        "def M(N):\n",
        "    i = np.array([np.linspace(0,N,N+1)])\n",
        "    k = i.T\n",
        "    \n",
        "    \n",
        "    \n",
        "    M = -4 * np.sin(k*np.pi / (2 * (N+1)))**2*np.identity(N+1)\n",
        "    \n",
        "    return M\n"
      ],
      "execution_count": 0,
      "outputs": []
    },
    {
      "cell_type": "code",
      "metadata": {
        "id": "tWqUvwyKPb9X",
        "colab_type": "code",
        "colab": {},
        "outputId": "1d1f4741-8b1b-4b34-eb9b-b825856f3c21"
      },
      "source": [
        "print(M(3))"
      ],
      "execution_count": 0,
      "outputs": [
        {
          "output_type": "stream",
          "text": [
            "[[-0.         -0.         -0.         -0.        ]\n",
            " [-0.         -0.58578644 -0.         -0.        ]\n",
            " [-0.         -0.         -2.         -0.        ]\n",
            " [-0.         -0.         -0.         -3.41421356]]\n"
          ],
          "name": "stdout"
        }
      ]
    },
    {
      "cell_type": "code",
      "metadata": {
        "id": "Agt_duxCPb9Z",
        "colab_type": "code",
        "colab": {}
      },
      "source": [
        "def L(N):\n",
        "    \n",
        "    return np.round(np.dot(Qu(N), np.dot(M(N), Qu(N).T)),0)"
      ],
      "execution_count": 0,
      "outputs": []
    },
    {
      "cell_type": "code",
      "metadata": {
        "id": "Lboh1zSRPb9a",
        "colab_type": "code",
        "colab": {},
        "outputId": "42e9d4c4-3e0e-4276-8255-ebce4d9ca46c"
      },
      "source": [
        "print(L(6))"
      ],
      "execution_count": 0,
      "outputs": [
        {
          "output_type": "stream",
          "text": [
            "[[-1.  1. -0.  0.  0.  0. -0.]\n",
            " [ 1. -2.  1. -0. -0. -0.  0.]\n",
            " [-0.  1. -2.  1. -0. -0.  0.]\n",
            " [-0. -0.  1. -2.  1.  0. -0.]\n",
            " [ 0. -0. -0.  1. -2.  1.  0.]\n",
            " [ 0. -0. -0.  0.  1. -2.  1.]\n",
            " [-0.  0.  0. -0.  0.  1. -1.]]\n"
          ],
          "name": "stdout"
        }
      ]
    },
    {
      "cell_type": "code",
      "metadata": {
        "id": "iqtTBWkgPb9c",
        "colab_type": "code",
        "colab": {},
        "outputId": "a5cb46bd-331c-4701-979f-c84c4c8dc0bc"
      },
      "source": [
        "print(np.kron(1,1))"
      ],
      "execution_count": 0,
      "outputs": [
        {
          "output_type": "stream",
          "text": [
            "1\n"
          ],
          "name": "stdout"
        }
      ]
    },
    {
      "cell_type": "code",
      "metadata": {
        "id": "ADW4EEg6Pb9e",
        "colab_type": "code",
        "colab": {}
      },
      "source": [
        "def A(N):\n",
        "    i = np.array([np.linspace(0,N,N+1)])\n",
        "    k = i.T\n",
        "    \n",
        "    A = np.kron(i,k)\n",
        "    \n",
        "    return A"
      ],
      "execution_count": 0,
      "outputs": []
    },
    {
      "cell_type": "code",
      "metadata": {
        "id": "O8CVTkQUPb9f",
        "colab_type": "code",
        "colab": {},
        "outputId": "c8aef87c-e9e9-4f8b-e397-5d956a776653"
      },
      "source": [
        "print(A(3))"
      ],
      "execution_count": 0,
      "outputs": [
        {
          "output_type": "stream",
          "text": [
            "[[0. 0. 0. 0.]\n",
            " [0. 1. 2. 3.]\n",
            " [0. 2. 4. 6.]\n",
            " [0. 3. 6. 9.]]\n"
          ],
          "name": "stdout"
        }
      ]
    },
    {
      "cell_type": "code",
      "metadata": {
        "id": "WtoqWqRlPb9h",
        "colab_type": "code",
        "colab": {}
      },
      "source": [
        ""
      ],
      "execution_count": 0,
      "outputs": []
    }
  ]
}